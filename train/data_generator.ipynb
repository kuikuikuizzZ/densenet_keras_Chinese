{
 "cells": [
  {
   "cell_type": "code",
   "execution_count": 7,
   "metadata": {},
   "outputs": [],
   "source": [
    "import numpy as np\n",
    "import keras\n"
   ]
  },
  {
   "cell_type": "code",
   "execution_count": 8,
   "metadata": {},
   "outputs": [
    {
     "data": {
      "text/plain": [
       "'我们这个接口主要是面对图像文件的实现按batch输入。需要在data中的格式是:\\n\\ndata/dataset1/\\n        train/\\n            img_1.jpg(.png...)\\n            img_2.jpg\\n            ....\\n            img_N.jpg\\n        train_label.json        \\n            {img_1.jpg : label1, \\n             img_2.jpg : label2,\\n             ...\\n             img_3.jpg : label_3,\\n             ...\\n        valid/\\n            img_1.jpg(.png...)\\n            img_2.jpg\\n            ....\\n            img_N.jpg\\n        valid_label.json\\n输入到Dataset的label需要是一个关于文件名的label字典\\n'"
      ]
     },
     "execution_count": 8,
     "metadata": {},
     "output_type": "execute_result"
    }
   ],
   "source": [
    "### 自定义dataset使用说明\n",
    "'''我们这个接口主要是面对图像文件的实现按batch输入。需要在data中的格式是:\n",
    "\n",
    "data/dataset1/\n",
    "        train/\n",
    "            img_1.jpg(.png...)\n",
    "            img_2.jpg\n",
    "            ....\n",
    "            img_N.jpg\n",
    "        train_label.json        \n",
    "            {img_1.jpg : label1, \n",
    "             img_2.jpg : label2,\n",
    "             ...\n",
    "             img_3.jpg : label_3,\n",
    "             ...\n",
    "        valid/\n",
    "            img_1.jpg(.png...)\n",
    "            img_2.jpg\n",
    "            ....\n",
    "            img_N.jpg\n",
    "        valid_label.json\n",
    "输入到Dataset的label需要是一个关于文件名的label字典\n",
    "'''\n"
   ]
  },
  {
   "cell_type": "code",
   "execution_count": 49,
   "metadata": {},
   "outputs": [],
   "source": [
    "from PIL import Image\n",
    "import os \n",
    "class DataGenerator(keras.utils.Sequence):\n",
    "    'Generates data for Keras'\n",
    "    def __init__(self, dataset_dir,list_IDs, labels, batch_size=32, dim=(32,32,32), n_channels=1,\n",
    "                 characters='', shuffle=True,maxLabelLength=10):\n",
    "        'Initialization'\n",
    "        self.dim = dim\n",
    "        self.batch_size = batch_size\n",
    "        self.labels = labels\n",
    "        self.list_IDs = list_IDs\n",
    "        self.n_channels = n_channels\n",
    "        self.characters = characters\n",
    "        self.n_classes = len(self.characters)\n",
    "        self.shuffle = shuffle\n",
    "        self.on_epoch_end()\n",
    "        self.dataset_dir = dataset_dir\n",
    "        self.maxLabelLength = maxLabelLength\n",
    "\n",
    "    def __len__(self):\n",
    "        'Denotes the number of batches per epoch'\n",
    "        return int(np.floor(len(self.list_IDs) / self.batch_size))\n",
    "\n",
    "    def __getitem__(self, index):\n",
    "        'Generate one batch of data'\n",
    "        # Generate indexes of the batch\n",
    "        indexes = self.indexes[index*self.batch_size:(index+1)*self.batch_size]\n",
    "\n",
    "        # Find list of IDs\n",
    "        list_IDs_temp = [self.list_IDs[k] for k in indexes]\n",
    "\n",
    "        # Generate data\n",
    "        X, y = self.__data_generation(list_IDs_temp)\n",
    "\n",
    "        return X, y\n",
    "\n",
    "    def on_epoch_end(self):\n",
    "        'Updates indexes after each epoch'\n",
    "        self.indexes = np.arange(len(self.list_IDs))\n",
    "        if self.shuffle == True:\n",
    "            np.random.shuffle(self.indexes)\n",
    "\n",
    "    def __data_generation(self, list_IDs_temp):\n",
    "        'Generates data containing batch_size samples' # X : (n_samples, *dim, n_channels)\n",
    "        # Initialization\n",
    "        X = np.zeros((self.batch_size, *self.dim, self.n_channels), dtype=np.float)\n",
    "        Y = np.zeros([self.batch_size, self.maxLabelLength],dtype=int) \n",
    "        input_length = np.zeros([self.batch_size, 1])\n",
    "        label_length = np.zeros([self.batch_size, 1])\n",
    "        \n",
    "        \n",
    "        # Generate data\n",
    "        for i, ID in enumerate(list_IDs_temp):\n",
    "            # Store sample\n",
    "            img = Image.open(os.path.join(self.dataset_dir, ID)).convert('L')\n",
    "            img = img.resize((self.dim[1],self.dim[0]))\n",
    "            img = np.array(img, 'f') / 255.0 - 0.5\n",
    "            X[i,] = np.expand_dims(img, axis=2)\n",
    "            \n",
    "            label_origin = self.labels[ID]\n",
    "            label = self.__one_hot(label_origin,length=len(label_origin))\n",
    "            label_length[i] = len(label)\n",
    "\n",
    "            if(len(label) <= 0):\n",
    "                print(\"%s label len < 0\" %ID)\n",
    "            # the input length for ctc_loss, for densenet pool size is about 8\n",
    "            input_length[i] = self.dim[0] // 8\n",
    "            Y[i, :len(label)] = label\n",
    "    \n",
    "            label_length[i] = len(label)\n",
    "            \n",
    "        inputs = {'the_input': X,\n",
    "            'the_labels': Y,\n",
    "            'input_length': input_length,\n",
    "            'label_length': label_length,\n",
    "            }\n",
    "        outputs = {'ctc': np.zeros([self.batch_size])}\n",
    "        return inputs, outputs\n",
    "\n",
    "    def __one_hot(self, text,length):\n",
    "        label = np.zeros(length)\n",
    "        for i, char in enumerate(text):\n",
    "            index = self.characters.find(char)\n",
    "            if index == -1:\n",
    "                index = self.characters.find(u' ')\n",
    "            if i < length:\n",
    "                label[i] = index\n",
    "        return label\n",
    "\n"
   ]
  },
  {
   "cell_type": "code",
   "execution_count": 50,
   "metadata": {},
   "outputs": [],
   "source": [
    "import json\n",
    "save_dir = './images/num_dataset_v1/'\n",
    "with open(save_dir+\"/train_label.json\",'r',encoding='utf-8') as json_file:\n",
    "    label_dict=json.load(json_file)\n",
    "# list_id = list(label_dict.keys())\n",
    "# print(list_id[:10])"
   ]
  },
  {
   "cell_type": "code",
   "execution_count": 51,
   "metadata": {},
   "outputs": [],
   "source": [
    "import sys\n",
    "import imp\n",
    "sys.path.insert(0,'/mnt/wuwenhui/git_ocr_project/chinese_ocr_densenet/densenet/')\n",
    "import keys\n",
    "list_id = list(label_dict.keys())\n",
    "charaters = keys.alphabet[:]\n",
    "train_gen = DataGenerator(dataset_dir='./images/num_dataset_v1/train/',list_IDs=list_id,\n",
    "                          batch_size=16, dim=(32,280),labels=label_dict,characters=charaters,\n",
    "                          maxLabelLength=15)"
   ]
  },
  {
   "cell_type": "code",
   "execution_count": 118,
   "metadata": {},
   "outputs": [
    {
     "name": "stdout",
     "output_type": "stream",
     "text": [
      "(32, 280, 1) [118  22  71   6 389   0   0   0   0   0   0   0   0   0   0]\n"
     ]
    },
    {
     "data": {
      "text/plain": [
       "<matplotlib.image.AxesImage at 0x7f4948027eb8>"
      ]
     },
     "execution_count": 118,
     "metadata": {},
     "output_type": "execute_result"
    },
    {
     "data": {
      "image/png": "[encoded data removed]",
      "text/plain": [
       "<Figure size 432x288 with 1 Axes>"
      ]
     },
     "metadata": {},
     "output_type": "display_data"
    }
   ],
   "source": [
    "import matplotlib.pyplot as plt\n",
    "%matplotlib inline\n",
    "item_test = ''\n",
    "# for item in train_gen:\n",
    "# #     print(item)\n",
    "#     item_test = item\n",
    "iterator = iter(train_gen)\n",
    "item = iterator.__next__()\n",
    "X,y = item\n",
    "i = np.random.randint(0,X['the_labels'].shape[0])\n",
    "train_gen.on_epoch_end()\n",
    "i =0\n",
    "print(X['the_input'][i].shape,X['the_labels'][i])\n",
    "image = np.squeeze(X['the_input'][i])\n",
    "plt.imshow(image)\n"
   ]
  },
  {
   "cell_type": "code",
   "execution_count": 75,
   "metadata": {},
   "outputs": [],
   "source": [
    "iterator = iter(train_gen)\n",
    "item = iterator.__next__()"
   ]
  }
 ],
 "metadata": {
  "kernelspec": {
   "display_name": "Python 3",
   "language": "python",
   "name": "python3"
  },
  "language_info": {
   "codemirror_mode": {
    "name": "ipython",
    "version": 3
   },
   "file_extension": ".py",
   "mimetype": "text/x-python",
   "name": "python",
   "nbconvert_exporter": "python",
   "pygments_lexer": "ipython3",
   "version": "3.5.2"
  }
 },
 "nbformat": 4,
 "nbformat_minor": 2
}
