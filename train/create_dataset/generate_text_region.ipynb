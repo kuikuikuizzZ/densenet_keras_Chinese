{
 "cells": [
  {
   "cell_type": "code",
   "execution_count": 1,
   "metadata": {},
   "outputs": [],
   "source": [
    "\n",
    "with open('./medicine_v2.txt') as f:\n",
    "    medicine = f.readlines()\n",
    "medicine = [name.split('\\n')[0] for name in medicine]\n",
    "medicine = list(set(medicine))\n"
   ]
  },
  {
   "cell_type": "code",
   "execution_count": 2,
   "metadata": {},
   "outputs": [],
   "source": [
    "medicine = [name.split('\\n')[0] for name in medicine]"
   ]
  },
  {
   "cell_type": "code",
   "execution_count": 3,
   "metadata": {},
   "outputs": [
    {
     "data": {
      "text/plain": [
       "179853"
      ]
     },
     "execution_count": 3,
     "metadata": {},
     "output_type": "execute_result"
    }
   ],
   "source": [
    "medicine = list(set(medicine))\n",
    "len(medicine)"
   ]
  },
  {
   "cell_type": "code",
   "execution_count": 5,
   "metadata": {},
   "outputs": [],
   "source": [
    "import cv2\n",
    "import random\n",
    "import glob\n",
    "import numpy as np\n",
    "import matplotlib.pyplot as plt\n",
    "import random\n",
    "import time \n",
    "import numpy as np\n",
    "import skimage\n",
    "import os \n",
    "\n",
    "from PIL import Image,ImageDraw,ImageFont,ImageEnhance,ImageFilter\n",
    "%matplotlib inline\n",
    "\n",
    "origin_images = glob.glob('./blank_region/*.jpg')\n",
    "font = ImageFont.truetype('./font/Songti.ttc',20,index=6)\n",
    "# font = ['./font/华文细黑.ttf','./font/Songti.ttc','./font/STHeitiLight.ttc']\n",
    "save_dir = '/mnt/wuwenhui/git_ocr_project/chinese_ocr_densenet/train/images/medicine_dataset_v1/train'\n",
    "if not os.path.exists(save_dir):\n",
    "    os.makedirs(save_dir)\n",
    "font_dir = ['./font/STHeitiLight.ttc','./font/Songti.ttc','./font/Hiragino Sans GB.ttc']\n"
   ]
  },
  {
   "cell_type": "code",
   "execution_count": 6,
   "metadata": {},
   "outputs": [
    {
     "data": {
      "text/plain": [
       "['./blank_region/20180908_image_00313.jpg',\n",
       " './blank_region/20180908_image_00289.jpg',\n",
       " './blank_region/20180908_image_00185.jpg',\n",
       " './blank_region/20180908_image_00171.jpg',\n",
       " './blank_region/20180908_image_00090.jpg',\n",
       " './blank_region/20180908_image_00082.jpg',\n",
       " './blank_region/20180908_image_00069.jpg',\n",
       " './blank_region/20180908_image_00064 2.jpg']"
      ]
     },
     "execution_count": 6,
     "metadata": {},
     "output_type": "execute_result"
    }
   ],
   "source": [
    "origin_images"
   ]
  },
  {
   "cell_type": "code",
   "execution_count": 7,
   "metadata": {},
   "outputs": [],
   "source": [
    "font_dir = ['./font/Songti.ttc','./font/华文细黑.ttf']\n",
    "# font_dir = ['./font/STHeitiLight.ttc']\n",
    "\n",
    "\n",
    "def SaltAndPepper(src,percetage):  \n",
    "    SP_NoiseImg=src \n",
    "    SP_NoiseNum=int(percetage*src.shape[0]*src.shape[1]) \n",
    "    for i in range(SP_NoiseNum): \n",
    "        randX=np.random.randint(0,src.shape[0]-1) \n",
    "        randY=np.random.randint(0,src.shape[1]-1) \n",
    "        if np.random.randint(0,1)==0: \n",
    "            SP_NoiseImg[randX,randY]=0 \n",
    "        else: \n",
    "            SP_NoiseImg[randX,randY]=255 \n",
    "    return SP_NoiseImg\n",
    "\n",
    "def image_enhance(img):\n",
    "    \n",
    "    flag1 = random.random()\n",
    "    if flag1 > 0.3:\n",
    "        img = ImageEnhance.Contrast(img).enhance(random.random()/2+0.8)\n",
    "        img = ImageEnhance.Brightness(img).enhance(random.random()/1.5+0.75)\n",
    "        flag2 = random.random()\n",
    "        if flag2 > 0.5:\n",
    "            for _ in range(random.randint(0,4)):\n",
    "                img = ImageEnhance.Sharpness(img).enhance(0.01)\n",
    "#                 print('sharp one')\n",
    "        elif flag2 > 0.3:\n",
    "            for _ in range(random.randint(0,3)):\n",
    "                img = img.filter(ImageFilter.SMOOTH_MORE)\n",
    "#                 print('smooth one')\n",
    "    return img\n",
    "\n",
    "\n",
    "\n",
    "def gen_text_randomSize(item):\n",
    "    fontName= random.choice(font_dir)\n",
    "    fontSize= random.randint(18,21)\n",
    "    len_item = len(item.strip())\n",
    "    origin_images = glob.glob('./blank_region/*.jpg')\n",
    "    if fontName == './font/Songti.ttc':\n",
    "        index = 6\n",
    "    else:\n",
    "        index = 0\n",
    "#     print(fontName,fontSize)\n",
    "    font = ImageFont.truetype(font=fontName,size=fontSize,index=index)\n",
    "    img = cv2.imread(random.choice(origin_images))\n",
    "    image = img.copy()\n",
    "    h,w = img.shape[:2]\n",
    "    blank = random.choice([2,2,2,2,2,50,80])\n",
    "    text_h,text_w = random.randint(fontSize+3,fontSize+7),(fontSize)*len_item+1+blank\n",
    "    if random.random() > 0.7:\n",
    "        text_h,text_w = random.randint(fontSize+3,fontSize+7),(fontSize)*len_item+1+blank+80\n",
    "    h_chop = h-text_h\n",
    "    w_chop = w-text_w\n",
    "#     print(h,w,text_h,text_w,blank)\n",
    "    x = np.random.randint(w_chop)\n",
    "    y = np.random.randint(h_chop)\n",
    "    image = image[y:y+text_h,x:x+text_w]\n",
    "\n",
    "    flag = random.random()\n",
    "    if flag >0.7:\n",
    "        image = skimage.util.random_noise(image,mode='gaussian',var=0.002)\n",
    "        image = np.uint8(image*255)\n",
    "    \n",
    "\n",
    "#     print(image.shape)\n",
    "    img_PIL = Image.fromarray(image[:,:,::-1])\n",
    "    draw = ImageDraw.Draw(img_PIL)\n",
    "    draw.text((blank,-1),item,font=font,fill=(0,0,0))\n",
    "    \n",
    "    img_PIL = image_enhance(img_PIL)\n",
    "    \n",
    "    with open(save_dir+item.replace('/','&&')+ \"-\" + str(fontSize) +'.txt', \"w\", encoding='utf-8') as f:\n",
    "        f.write(item)\n",
    "    img_PIL.save(save_dir+item.replace('/','&&')+ \"-\" + str(fontSize) +'.png') \n",
    "    return img_PIL"
   ]
  },
  {
   "cell_type": "code",
   "execution_count": 20,
   "metadata": {},
   "outputs": [
    {
     "name": "stdout",
     "output_type": "stream",
     "text": [
      "CPU times: user 16.4 ms, sys: 271 µs, total: 16.7 ms\n",
      "Wall time: 16.2 ms\n"
     ]
    }
   ],
   "source": [
    "import keys_keras\n",
    "character = keys_keras.alphabet_union[:]\n",
    "%time items_num = [random.randint(0,len(character)-16) for _ in range(5000)]\n",
    "items = [''.join(random.sample(character,20)) for _ in range(20000)]\n",
    "\n",
    "# %time items = [character[i:i+15] for i in items_num ]"
   ]
  },
  {
   "cell_type": "code",
   "execution_count": 24,
   "metadata": {},
   "outputs": [],
   "source": [
    "def chop_to_10(text,characters):\n",
    "    assert type(text) is str\n",
    "    length = len(text)\n",
    "    if length > 10 :\n",
    "        start = random.randint(0,length-10)\n",
    "        return text[start:start+10]\n",
    "    elif length == 10:\n",
    "        return text\n",
    "    else:\n",
    "        return text+''.join(random.sample(characters,10-length))"
   ]
  },
  {
   "cell_type": "code",
   "execution_count": 41,
   "metadata": {},
   "outputs": [],
   "source": [
    "chop_10_list = [chop_to_10(item,characters=character) for item in medicine]"
   ]
  },
  {
   "cell_type": "code",
   "execution_count": null,
   "metadata": {},
   "outputs": [],
   "source": [
    "len_medicine = [len(item) for item in medicine]\n",
    "np.sum(np.array(len_medicine) > 15)/len(medicine)\n",
    "# len(medicine)\n"
   ]
  },
  {
   "cell_type": "code",
   "execution_count": null,
   "metadata": {},
   "outputs": [],
   "source": [
    "from multiprocessing import Pool,cpu_count\n",
    "pool = Pool(cpu_count()//2)\n",
    "# items1 = random.sample([item for item in medicine if len(item) >= 15],3000)\n",
    "items2 = [item+' ※' for item in random.sample(medicine,50)]\n",
    "# items = items1+items2\n",
    "random.shuffle(items)\n",
    "# print(len(items))\n",
    "items = random.sample(medicine,3000)\n",
    "items =  items+items2\n",
    "random.shuffle(items)\n",
    "\n",
    "# items = [item for item in medicine if len(item) >= 15]\n",
    "# items = random.sample(medicine,20000)\n",
    "# items = [''.join(random.sample(character,25)) for _ in range(10000)]\n",
    "\n",
    "start = time.time()\n",
    "%time result = pool.map(gen_text_randomSize,items)\n",
    "end = time.time()\n",
    "print(end-start,cpu_count()//2)\n",
    "\n"
   ]
  },
  {
   "cell_type": "code",
   "execution_count": null,
   "metadata": {},
   "outputs": [],
   "source": [
    "items = [item for item in medicine if len(item) < 15]\n",
    "len(items)\n"
   ]
  },
  {
   "cell_type": "code",
   "execution_count": null,
   "metadata": {},
   "outputs": [],
   "source": [
    "\n",
    "import concurrent.futures\n",
    "\n",
    "# start = time.time()\n",
    "with concurrent.futures.ProcessPoolExecutor() as executor:\n",
    "    start = time.time()\n",
    "    executor.map(gen_text_randomSize,items)\n",
    "end = time.time()\n",
    "print(end-start)"
   ]
  },
  {
   "cell_type": "code",
   "execution_count": 63,
   "metadata": {},
   "outputs": [
    {
     "name": "stdout",
     "output_type": "stream",
     "text": [
      "CPU times: user 186 ms, sys: 110 ms, total: 296 ms\n",
      "Wall time: 294 ms\n"
     ]
    },
    {
     "data": {
      "text/plain": [
       "(273, 23)"
      ]
     },
     "execution_count": 63,
     "metadata": {},
     "output_type": "execute_result"
    },
    {
     "data": {
      "image/png": "[encoded data removed]",
      "text/plain": [
       "<Figure size 432x288 with 1 Axes>"
      ]
     },
     "metadata": {},
     "output_type": "display_data"
    }
   ],
   "source": [
    "# import keys_keras\n",
    "%time result = gen_text_randomSize(random.choice(chop_10_list))\n",
    "# k = random.randint(0,5)\n",
    "\n",
    "# result = image_enhance(result)\n",
    "#  result = ImageEnhance.Contrast(result).enhance(0.5)\n",
    "\n",
    "# result = ImageEnhance.Brightness(result).enhance(1.5)\n",
    "\n",
    "# for i in range(k):\n",
    "#     result = result.filter(ImageFilter.SMOOTH_MORE)\n",
    "# img_list = glob.glob('../data/train_competition_gen_20_v2/*.png')\n",
    "\n",
    "# result = Image.open(random.choice(items2))\n",
    "plt.imshow(result)\n",
    "result.size"
   ]
  },
  {
   "cell_type": "code",
   "execution_count": null,
   "metadata": {},
   "outputs": [],
   "source": [
    "def gen_text(item,fontName='./font/Songti.ttc',fontSize=20):\n",
    "    len_item = len(item)\n",
    "    origin_images = glob.glob('./blank_region/*.jpg')\n",
    "    if fontName == './font/Songti.ttc':\n",
    "        index = 6\n",
    "    else:\n",
    "        index = 0\n",
    "#     print(fontName,index)\n",
    "    font = ImageFont.truetype(font=fontName,size=fontSize,index=index)\n",
    "    img = cv2.imread(random.choice(origin_images))\n",
    "    image = img.copy()\n",
    "    h,w = img.shape[:2]\n",
    "    blank = random.choice([5,15,25,50,80])\n",
    "    text_h,text_w = 32,(fontSize+5)*len_item+1+blank\n",
    "    h_chop = h-text_h\n",
    "    w_chop = w-text_w\n",
    "#     print(h,w,text_h,text_w,blank)\n",
    "    x = np.random.randint(w_chop)\n",
    "    y = np.random.randint(h_chop)\n",
    "    image = image[y:y+text_h,x:x+text_w]\n",
    "#     print(image.shape)\n",
    "    img_PIL = Image.fromarray(image[:,:,::-1])\n",
    "    \n",
    "    draw = ImageDraw.Draw(img_PIL)\n",
    "    draw.text((blank,25-fontSize),item,font=font,fill=(0,0,0))\n",
    "    with open(save_dir+item.replace('/','&&')+ \"-\" + str(fontSize) +'.txt', \"w\", encoding='utf-8') as f:\n",
    "        f.write(item)\n",
    "    img_PIL.save(save_dir+item.replace('/','&&')+ \"-\" + str(fontSize) +'.png') \n",
    "    return img_PIL\n",
    "\n",
    "def genImage(label, fontsize, color=(0, 0, 0),fontName=\"./font/Songti.ttc\"):\n",
    "    img = Image.new(\"RGB\", ((int)(fontsize * 1.2 * len(label)), (int)(fontsize * 2)), (255, 255, 255))\n",
    "    font = ImageFont.truetype(fontName, fontsize)\n",
    "    draw = ImageDraw.Draw(img)\n",
    "    draw.text((0, 0), label, fill=color, font=font)\n",
    "    with open(\"../data/dataline/\" + label + \"-\" + str(fontsize) + \".txt\", \"w\", encoding='utf-8') as f:\n",
    "        f.write(label)\n",
    "    img.save(\"../data/dataline/\" + label + \"-\" + str(fontsize) + \".png\")\n",
    "\n",
    "    \n"
   ]
  },
  {
   "cell_type": "code",
   "execution_count": null,
   "metadata": {},
   "outputs": [],
   "source": [
    "font_dir = ['./font/STHeitiLight.ttc','./font/Songti.ttc','./font/Hiragino Sans GB.ttc']\n",
    "fontName = random.choice(font_dir)\n",
    "fontSize = random.randint(15,25)\n",
    "print(fontName,fontSize)\n",
    "img = gen_text('深静脉导管',fontName=fontName,fontSize=fontSize)"
   ]
  },
  {
   "cell_type": "code",
   "execution_count": null,
   "metadata": {},
   "outputs": [],
   "source": [
    "font_dir = ['./font/STHeitiLight.ttc','./font/Songti.ttc','./font/Hiragino Sans GB.ttc','./font/华文细黑.ttf']\n",
    "\n",
    "def genImage_random(label, fontsize, color=(0, 0, 0),fontName=\"./font/Songti.ttc\"):\n",
    "    img = Image.new(\"RGB\", ((int)(fontsize * 1.2 * len(label)), (int)(fontsize * 2)), (255, 255, 255))\n",
    "    font = ImageFont.truetype(fontName, fontsize)\n",
    "    draw = ImageDraw.Draw(img)\n",
    "    draw.text((0, 0), label, fill=color, font=font)\n",
    "    with open(\"../data/dataline/\" + label + \"-\" + str(fontsize) + \".txt\", \"w\", encoding='utf-8') as f:\n",
    "        f.write(label)\n",
    "    img.save(\"../data/dataline/\" + label + \"-\" + str(fontsize) + \".jpg\")\n",
    "    return img "
   ]
  },
  {
   "cell_type": "code",
   "execution_count": null,
   "metadata": {
    "scrolled": true
   },
   "outputs": [],
   "source": [
    "txt_file = glob.glob('../data/valid_v3_replace/*.png')"
   ]
  },
  {
   "cell_type": "code",
   "execution_count": null,
   "metadata": {},
   "outputs": [],
   "source": [
    "import keys_keras\n",
    "charater = keys_keras.alphabet[:]\n",
    "medicine = u''.join(medicine)\n",
    "union = set(charater) | set(medicine)\n",
    "lack_diff = set(union)- set(charater)"
   ]
  },
  {
   "cell_type": "code",
   "execution_count": null,
   "metadata": {},
   "outputs": [],
   "source": [
    "len(lack_diff)"
   ]
  },
  {
   "cell_type": "raw",
   "metadata": {},
   "source": [
    "''.join(lack_diff)"
   ]
  },
  {
   "cell_type": "code",
   "execution_count": null,
   "metadata": {},
   "outputs": [],
   "source": [
    "draw = ImageDraw.Draw(result[0])\n",
    "draw.text((0,0),'sfa',font=font)"
   ]
  },
  {
   "cell_type": "code",
   "execution_count": null,
   "metadata": {},
   "outputs": [],
   "source": [
    "np.random.randint(-10,10,result[0].size)"
   ]
  },
  {
   "cell_type": "code",
   "execution_count": null,
   "metadata": {},
   "outputs": [],
   "source": [
    "import glob\n",
    "img_file = glob.glob('../data/train_random_char/*png')\n",
    "len(img_file)"
   ]
  },
  {
   "cell_type": "code",
   "execution_count": null,
   "metadata": {},
   "outputs": [],
   "source": [
    "img_file[:10]"
   ]
  },
  {
   "cell_type": "code",
   "execution_count": null,
   "metadata": {},
   "outputs": [],
   "source": [
    "img = genImage('随便红烧豆腐',20,fontName='./font/华文细黑.ttf')"
   ]
  },
  {
   "cell_type": "code",
   "execution_count": null,
   "metadata": {},
   "outputs": [],
   "source": [
    "img.size\n",
    "plt.imshow(img)"
   ]
  },
  {
   "cell_type": "code",
   "execution_count": null,
   "metadata": {},
   "outputs": [],
   "source": [
    "item"
   ]
  },
  {
   "cell_type": "code",
   "execution_count": null,
   "metadata": {},
   "outputs": [],
   "source": [
    "import glob\n",
    "imgs = glob.glob('../data/train_competition_add_num_v3/*txt')\n",
    "len(imgs)"
   ]
  },
  {
   "cell_type": "code",
   "execution_count": null,
   "metadata": {},
   "outputs": [],
   "source": [
    "len(imgs)"
   ]
  },
  {
   "cell_type": "code",
   "execution_count": null,
   "metadata": {},
   "outputs": [],
   "source": []
  }
 ],
 "metadata": {
  "kernelspec": {
   "display_name": "Python 3",
   "language": "python",
   "name": "python3"
  },
  "language_info": {
   "codemirror_mode": {
    "name": "ipython",
    "version": 3
   },
   "file_extension": ".py",
   "mimetype": "text/x-python",
   "name": "python",
   "nbconvert_exporter": "python",
   "pygments_lexer": "ipython3",
   "version": "3.5.2"
  }
 },
 "nbformat": 4,
 "nbformat_minor": 2
}
