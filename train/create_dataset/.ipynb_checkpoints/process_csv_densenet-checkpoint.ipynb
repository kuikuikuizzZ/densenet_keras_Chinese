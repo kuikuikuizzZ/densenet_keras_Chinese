{
 "cells": [
  {
   "cell_type": "code",
   "execution_count": 1,
   "metadata": {},
   "outputs": [],
   "source": [
    "import pandas as pd\n",
    "import numpy \n",
    "import glob\n",
    "import os\n",
    "from PIL import Image\n",
    "import matplotlib.pyplot as plt\n",
    "%matplotlib inline"
   ]
  },
  {
   "cell_type": "code",
   "execution_count": 27,
   "metadata": {},
   "outputs": [],
   "source": [
    "df_train = pd.read_csv('../data/pytorch_densenet/train.csv')"
   ]
  },
  {
   "cell_type": "code",
   "execution_count": 28,
   "metadata": {},
   "outputs": [
    {
     "data": {
      "text/plain": [
       "(10754, 12846)"
      ]
     },
     "execution_count": 28,
     "metadata": {},
     "output_type": "execute_result"
    }
   ],
   "source": [
    "content = [i if type(i) is str else str(i) for i in df_train.content ]\n",
    "# content = [i for i in df_train.content if type(i) is str ]\n",
    "\n",
    "dict_file = dict(zip(df_train.name,content))\n",
    "content_no_blank = [(key,value) for key,value in dict_file.items() if ' ' not in value and len(value)>9]\n",
    "# content_blank = [(key,value) for key,value in content_no_blank if ' ' in value ]\n",
    "# print(content_blank[:10]),len(content_no_blank)\n",
    "content_no_blank_dict = dict(content_no_blank)\n",
    "len(content_no_blank_dict),len(content_no_blank_dict_f)"
   ]
  },
  {
   "cell_type": "code",
   "execution_count": 35,
   "metadata": {},
   "outputs": [
    {
     "name": "stdout",
     "output_type": "stream",
     "text": [
      "23600\n"
     ]
    }
   ],
   "source": [
    "total_10 = {}\n",
    "total_10.update(content_no_blank_dict)\n",
    "total_10.update(content_no_blank_dict_f)\n",
    "print(len(total_10))\n",
    "# total_10_blank = [value for _,value in total_10.items() if ' ' in value]\n",
    "# print(total_10_blank)\n"
   ]
  },
  {
   "cell_type": "code",
   "execution_count": 168,
   "metadata": {},
   "outputs": [],
   "source": [
    "import json\n",
    "save_dir = '/mnt/wuwenhui/git_ocr_project/chinese_ocr_densenet/train/images/train_competition/'\n",
    "if not os.path.exists(save_dir):\n",
    "    os.mkdir(save_dir)\n",
    "# 保存成.json\n",
    "with open(save_dir+\"train_competition_label.json\",'w',encoding='utf-8') as json_file:   \n",
    "        json.dump(total_10,json_file)\n",
    "# load json 文件\n",
    "with open(save_dir+\"train_competition_label.json\",'r',encoding='utf-8') as json_file:\n",
    "    txt=json.load(json_file)"
   ]
  },
  {
   "cell_type": "code",
   "execution_count": 43,
   "metadata": {},
   "outputs": [
    {
     "data": {
      "text/plain": [
       "23600"
      ]
     },
     "execution_count": 43,
     "metadata": {},
     "output_type": "execute_result"
    }
   ],
   "source": []
  },
  {
   "cell_type": "code",
   "execution_count": null,
   "metadata": {},
   "outputs": [],
   "source": [
    "# import re\n",
    "# pattern = re.compile(r'^[a-zA-Z0-9]+$')\n",
    "# pattern2 = re.compile(r'[0-9]*\\.?[0-9]+$')\n",
    "# num_list = [(name,content) for name,content in dict_file if re.match(pattern2,content)]\n",
    "# char_list = [(name,content) for name,content in dict_file if re.match(pattern,content)]\n",
    "# num_list+char_list"
   ]
  },
  {
   "cell_type": "code",
   "execution_count": 44,
   "metadata": {},
   "outputs": [],
   "source": [
    "dst = '../data/pytorch_densenet/competiton_final/train_f/'\n",
    "save_dir = '/mnt/wuwenhui/git_ocr_project/chinese_ocr_densenet/train/images/train_competition/'\n",
    "if not os.path.exists(save_dir):\n",
    "    os.mkdir(save_dir)\n",
    "def gen_image(item):\n",
    "    name,content = item\n",
    "    img_PIL = Image.open(dst+name)\n",
    "    img_PIL.save(save_dir+content.replace('/','&&') + '.png') \n",
    "#     print(content)\n",
    "    return img_PIL"
   ]
  },
  {
   "cell_type": "code",
   "execution_count": null,
   "metadata": {},
   "outputs": [],
   "source": [
    "import random\n",
    "item = random.choice(num_list+char_list)\n",
    "result = gen_image(item)\n",
    "plt.imshow(result)\n",
    "item"
   ]
  },
  {
   "cell_type": "code",
   "execution_count": 162,
   "metadata": {},
   "outputs": [],
   "source": [
    "import shutil\n",
    "dst ='/mnt/wuwenhui/git_ocr_project/chinese_ocr_densenet/train/images/train_competition/'\n",
    "save_dir = '/mnt/wuwenhui/git_ocr_project/chinese_ocr_densenet/train/images/medicine_dataset_v1/train/'\n",
    "dst_files = glob.glob(dst+'*png')\n",
    "for item in dst_files:\n",
    "    name = os.path.split(item)[-1]\n",
    "#     print(name)\n",
    "    file_name = save_dir+name\n",
    "    if os.path.exists(file_name):\n",
    "        os.remove(file_name)\n",
    "    shutil.copy(item,file_name)"
   ]
  },
  {
   "cell_type": "code",
   "execution_count": null,
   "metadata": {},
   "outputs": [],
   "source": [
    "content = [i for i in df_train.content if type(i) is str]"
   ]
  },
  {
   "cell_type": "code",
   "execution_count": null,
   "metadata": {},
   "outputs": [],
   "source": [
    "len(dict_file)"
   ]
  },
  {
   "cell_type": "code",
   "execution_count": null,
   "metadata": {},
   "outputs": [],
   "source": [
    "len_list = [len(i) for _,i in dict_file if len(i) > 25]"
   ]
  },
  {
   "cell_type": "code",
   "execution_count": 61,
   "metadata": {},
   "outputs": [],
   "source": [
    "files= [file for _,_,file in os.walk(save_dir)]"
   ]
  },
  {
   "cell_type": "code",
   "execution_count": 169,
   "metadata": {},
   "outputs": [],
   "source": [
    "file = set(files[0]) \n",
    "key = set(txt.keys())"
   ]
  },
  {
   "cell_type": "code",
   "execution_count": 170,
   "metadata": {},
   "outputs": [
    {
     "data": {
      "text/plain": [
       "23600"
      ]
     },
     "execution_count": 170,
     "metadata": {},
     "output_type": "execute_result"
    }
   ],
   "source": [
    "len(key&set(imgs))"
   ]
  },
  {
   "cell_type": "code",
   "execution_count": 164,
   "metadata": {},
   "outputs": [
    {
     "data": {
      "text/plain": [
       "(23600, 23600)"
      ]
     },
     "execution_count": 164,
     "metadata": {},
     "output_type": "execute_result"
    }
   ],
   "source": [
    "import glob\n",
    "save_dir ='/mnt/wuwenhui/git_ocr_project/chinese_ocr_densenet/train/images/train_competition/T1058'\n",
    "\n",
    "imgs = glob.glob(save_dir+'/*.png')\n",
    "len(imgs),len(key)"
   ]
  },
  {
   "cell_type": "code",
   "execution_count": 141,
   "metadata": {},
   "outputs": [],
   "source": [
    "with open(save_dir+\"train_label.json\",'r',encoding='utf-8') as json_file:\n",
    "    char_txt=json.load(json_file)"
   ]
  },
  {
   "cell_type": "code",
   "execution_count": 166,
   "metadata": {},
   "outputs": [],
   "source": [
    "imgs = [os.path.split(img)[-1] for img in imgs]"
   ]
  },
  {
   "cell_type": "code",
   "execution_count": 80,
   "metadata": {},
   "outputs": [
    {
     "data": {
      "text/plain": [
       "166891"
      ]
     },
     "execution_count": 80,
     "metadata": {},
     "output_type": "execute_result"
    }
   ],
   "source": [
    "len(set(imgs)-key)"
   ]
  },
  {
   "cell_type": "code",
   "execution_count": 130,
   "metadata": {},
   "outputs": [
    {
     "data": {
      "text/plain": [
       "30"
      ]
     },
     "execution_count": 130,
     "metadata": {},
     "output_type": "execute_result"
    }
   ],
   "source": [
    "len((set(char_txt) | set(imgs))-set(char_txt))"
   ]
  },
  {
   "cell_type": "code",
   "execution_count": 172,
   "metadata": {},
   "outputs": [
    {
     "data": {
      "text/plain": [
       "True"
      ]
     },
     "execution_count": 172,
     "metadata": {},
     "output_type": "execute_result"
    }
   ],
   "source": [
    "'T1058_7.png' in imgs"
   ]
  },
  {
   "cell_type": "code",
   "execution_count": 136,
   "metadata": {},
   "outputs": [],
   "source": [
    "remove_list = list((set(char_txt) | set(imgs))-set(char_txt))"
   ]
  },
  {
   "cell_type": "code",
   "execution_count": 137,
   "metadata": {},
   "outputs": [],
   "source": [
    "for file in remove_list:\n",
    "    os.remove(save_dir+file)"
   ]
  },
  {
   "cell_type": "code",
   "execution_count": null,
   "metadata": {},
   "outputs": [],
   "source": []
  }
 ],
 "metadata": {
  "kernelspec": {
   "display_name": "Python 3",
   "language": "python",
   "name": "python3"
  },
  "language_info": {
   "codemirror_mode": {
    "name": "ipython",
    "version": 3
   },
   "file_extension": ".py",
   "mimetype": "text/x-python",
   "name": "python",
   "nbconvert_exporter": "python",
   "pygments_lexer": "ipython3",
   "version": "3.5.2"
  }
 },
 "nbformat": 4,
 "nbformat_minor": 2
}
