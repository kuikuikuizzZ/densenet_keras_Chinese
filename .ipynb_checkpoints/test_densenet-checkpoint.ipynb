{
 "cells": [
  {
   "cell_type": "code",
   "execution_count": 1,
   "metadata": {},
   "outputs": [
    {
     "name": "stdout",
     "output_type": "stream",
     "text": [
      "env: CUDA_VISIBLE_DEVICES=1,3\n"
     ]
    }
   ],
   "source": [
    "%env CUDA_VISIBLE_DEVICES=1,3\n"
   ]
  },
  {
   "cell_type": "code",
   "execution_count": 2,
   "metadata": {},
   "outputs": [
    {
     "name": "stderr",
     "output_type": "stream",
     "text": [
      "Using TensorFlow backend.\n"
     ]
    }
   ],
   "source": [
    "# from densenet.densenet_lib import Densenet_keras\n",
    "import os \n",
    "import sys\n",
    "sys.path.append(os.path.dirname(os.getcwd())+'densenet/')\n",
    "import tensorflow as tf\n",
    "import keras.backend as K\n",
    "# import keys_union\n",
    "from glob import glob\n",
    "from PIL import Image\n",
    "import time\n",
    "import matplotlib.pyplot as plt\n",
    "import difflib\n",
    "import re\n",
    "import random\n",
    "import cv2\n",
    "import densenet.keys as keys\n",
    "import densenet.keys_keras as keys_keras\n",
    "import densenet.densenet_lib as densenet_lib\n",
    "import numpy as np\n",
    "import densenet.keys_keras as keys_keras"
   ]
  },
  {
   "cell_type": "code",
   "execution_count": 3,
   "metadata": {},
   "outputs": [
    {
     "data": {
      "text/plain": [
       "<module 'densenet.densenet_lib' from '/mnt/wuwenhui/git_ocr_project/chinese_ocr_densenet/densenet/densenet_lib.py'>"
      ]
     },
     "execution_count": 3,
     "metadata": {},
     "output_type": "execute_result"
    }
   ],
   "source": [
    "import imp\n",
    "imp.reload(densenet_lib)"
   ]
  },
  {
   "cell_type": "code",
   "execution_count": 4,
   "metadata": {},
   "outputs": [],
   "source": [
    "model_path = './train/models/freezen_5layers_dataset_v1-0.798-0.869.h5'\n",
    "characters = keys_keras.alphabet_union[:]\n",
    "characters = characters[1:]+u'卍'\n",
    "densenet_keras = densenet_lib.Densenet_keras(model_path=model_path,characters=characters)"
   ]
  },
  {
   "cell_type": "code",
   "execution_count": null,
   "metadata": {},
   "outputs": [],
   "source": [
    "model_path = './densenet/models/weights_densenet.h5'\n",
    "characters = keys.alphabet[:]\n",
    "characters = characters[1:]+u'卍'\n",
    "densenet_keras_5990 = densenet_lib.Densenet_keras(model_path=model_path,characters=characters)"
   ]
  },
  {
   "cell_type": "code",
   "execution_count": null,
   "metadata": {},
   "outputs": [],
   "source": [
    "model_path = './train/models/freezen_5layers_len20-13-0.731-0.855.h5'\n",
    "characters = keys_keras.alphabet_union[:]\n",
    "characters = characters[1:]+u'卍'\n",
    "densenet_keras_2 = densenet_lib.Densenet_keras(model_path=model_path,characters=characters)"
   ]
  },
  {
   "cell_type": "code",
   "execution_count": null,
   "metadata": {},
   "outputs": [],
   "source": [
    "# densenet_keras_5990.load_weights('./densenet/models/weights_densenet_with_name.h5')\n",
    "densenet_keras_5990.basemodel = basemodel5\n",
    "# densenet_keras_2.load_weights('./train/models/random_len20-06-0.400-0.926.h5')\n",
    "\n",
    "# imgs_path = glob('/mnt/wuwenhui/git_ocr_project/chinese_ocr_densenet/train/images/num_dataset_v2/train/*.png')\n",
    "imgs_path = glob('/mnt/wuwenhui/git_ocr_project/keras_crnn/train/data/manual_crop/zh/*png')\n",
    "img_path = random.choice(imgs_path)\n",
    "# print(img_path)\n",
    "# img = Image.open(img_path)\n",
    "img = cv2.imread(img_path)\n",
    "blank = np.ones((img.shape[0],50,3),dtype=np.uint8)*255\n",
    "img = np.concatenate((img,blank),axis=1)\n",
    "print(img.shape)\n",
    "model = densenet_keras_5990\n",
    "# img = cv2.resize(img,(800,32))\n",
    "%time result = model.recognize(img)\n",
    "# print(model.basemodel.summary())\n",
    "plt.imshow(img)\n",
    "print(result)\n"
   ]
  },
  {
   "cell_type": "code",
   "execution_count": null,
   "metadata": {},
   "outputs": [],
   "source": [
    "# merge two model predict\n",
    "\n",
    "# densenet_keras.load_weights('./train/models/freezen_5layers_dataset_v1-0.729-0.882.h5')\n",
    "# densenet_keras_2.load_weights('./train/models/freezen_5layers_len20-13-0.731-0.855.h5')\n",
    "\n",
    "# imgs_path = glob('/mnt/wuwenhui/git_ocr_project/chinese_ocr_densenet/train/images/num_dataset_v2/train/*.png')\n",
    "imgs_path = glob('/mnt/wuwenhui/git_ocr_project/keras_crnn/train/data/manual_crop/zh/*png')\n",
    "img_path = random.choice(imgs_path)\n",
    "# print(img_path)\n",
    "# img = Image.open(img_path)\n",
    "img = cv2.imread(img_path)\n",
    "blank = np.ones((img.shape[0],20,3),dtype=np.uint8)*255\n",
    "img = np.concatenate((blank,img,blank),axis=1)\n",
    "model1 = densenet_keras\n",
    "model2 = densenet_keras_2\n",
    "# img = cv2.resize(img,(800,32))\n",
    "%time y_pred1 = model1.predict(img)\n",
    "%time y_pred2 = model2.predict(img)\n",
    "y_pred1 = y_pred1[:, :, :]\n",
    "y_pred2 = y_pred2[:, :, :]\n",
    "\n",
    "result = model1.decode((y_pred1+y_pred2)/2,with_confidence=True)\n",
    "result2 = model2.recongnize_with_confidence(img)\n",
    "result3 = densenet_keras.recongnize_with_confidence(img)\n",
    "# print(model.basemodel.summary())\n",
    "plt.imshow(img)\n",
    "print(result)\n",
    "print(result2,'model2')\n",
    "print(result3,'model1')"
   ]
  },
  {
   "cell_type": "code",
   "execution_count": null,
   "metadata": {},
   "outputs": [],
   "source": [
    "img_paths = glob('/mnt/wuwenhui/git_ocr_project/keras_crnn/train/data/manual_crop/zh/*png')*2\n",
    "img_paths = img_paths*10\n",
    "img_paths = random.sample(img_paths,150)\n",
    "img_list = [ cv2.imread(img_path) for img_path in img_paths ]\n",
    "%time result_list = densenet_keras_2.recognize_on_batch(img_list)\n",
    "print(len(result_list))\n",
    "result_list"
   ]
  },
  {
   "cell_type": "code",
   "execution_count": null,
   "metadata": {},
   "outputs": [],
   "source": [
    "img_paths = glob('/mnt/wuwenhui/git_ocr_project/keras_crnn/train/data/manual_crop/zh/*png')\n",
    "img_paths = img_paths\n",
    "img_paths = random.sample(img_paths,100)\n",
    "img_list = [ cv2.imread(img_path) for img_path in img_paths ]\n",
    "result_list = []\n",
    "start = time.time()\n",
    "for img in img_list:\n",
    "    result = densenet_keras.recognize_with_confidence(img)\n",
    "    result_list.append(result)\n",
    "print(time.time()-start)\n",
    "print(len(result_list))\n",
    "result_list"
   ]
  },
  {
   "cell_type": "code",
   "execution_count": null,
   "metadata": {},
   "outputs": [],
   "source": [
    "from  densenet  import densenet\n",
    "from keras.layers import Input,Dense\n",
    "from keras.models import Model\n",
    "characters = keys.alphabet[:]\n",
    "characters = characters[:] \n",
    "nclass = len(characters)\n",
    "print(len(characters))\n",
    "input = Input(shape=(32, None, 1), name='the_input')\n",
    "y_pred = densenet.dense_cnn(input, nclass)\n",
    "basemodel = Model(inputs=input, outputs=y_pred)\n",
    "modelPath = './densenet/models/weights_densenet_with_name.h5'\n",
    "\n",
    "if os.path.exists(modelPath):\n",
    "    print(\"Loading model weights...\")\n",
    "    basemodel.load_weights(modelPath)\n",
    "    print('done!') \n",
    "  \n",
    "    \n",
    "# basemodel.save_weights('./models/no_use_model.h5')"
   ]
  },
  {
   "cell_type": "code",
   "execution_count": null,
   "metadata": {},
   "outputs": [],
   "source": [
    "# characters = keys.alphabet_union[:]\n",
    "# characters = characters[:] \n",
    "# nclass = len(characters)\n",
    "\n",
    "basemodel2 = Model(inputs=input,outputs=basemodel.get_layer('flatten').output)\n",
    "for i,layer in enumerate(basemodel2.layers):\n",
    "    layer.set_weights = basemodel.layers[i].weights\n",
    "flatten = basemodel.get_layer('flatten').output\n",
    "y_pred = Dense(nclass, name='out', activation='softmax')(flatten)\n",
    "basemodel3 =  Model(inputs=input,outputs=y_pred)\n",
    "for i,layer in enumerate(basemodel3.layers):\n",
    "    layer.set_weights = basemodel.layers[i].weights\n",
    "# basemodel4 = Model(inputs=input,outputs=basemodel.get_layer('Time').output)\n",
    "# basemodel4.load_weights()\n",
    "# basemodel.summary()"
   ]
  },
  {
   "cell_type": "code",
   "execution_count": null,
   "metadata": {},
   "outputs": [],
   "source": [
    "basemodel4 = Model(inputs=input,outputs=basemodel.get_layer('flatten').output)\n",
    "basemodel4.load_weights('./models/pre_y_pred_weights.h5')\n",
    "for i,layer in enumerate(basemodel.layers[:-1]):\n",
    "    layer.set_weights = basemodel4.layers[i].weights\n",
    "#     print(layer.name)"
   ]
  },
  {
   "cell_type": "code",
   "execution_count": null,
   "metadata": {},
   "outputs": [],
   "source": [
    "basemodel3.layers[-1].set_weights = basemodel.layers[-1].weights\n",
    "print(basemodel.layers[-1].name)"
   ]
  },
  {
   "cell_type": "code",
   "execution_count": null,
   "metadata": {},
   "outputs": [],
   "source": [
    "basemodel3.save_weights('./models/merge_weights_pretrain_3.h5')"
   ]
  },
  {
   "cell_type": "code",
   "execution_count": null,
   "metadata": {},
   "outputs": [],
   "source": [
    "print(nclass)\n",
    "input1 = Input(shape=(32, None, 1), name='the_input')\n",
    "y_pred1 = densenet.dense_cnn(input1, nclass)\n",
    "basemodel5 = Model(inputs=input1, outputs=y_pred1)"
   ]
  },
  {
   "cell_type": "code",
   "execution_count": null,
   "metadata": {},
   "outputs": [],
   "source": [
    "basemodel.save_weights('./densenet/models/weights_densenet_with_name.h5')"
   ]
  },
  {
   "cell_type": "code",
   "execution_count": null,
   "metadata": {},
   "outputs": [],
   "source": [
    "basemodel5.load_weights('./densenet/models/weights_densenet.h5')"
   ]
  },
  {
   "cell_type": "code",
   "execution_count": null,
   "metadata": {},
   "outputs": [],
   "source": [
    "basemodel.get_layer('pool3_0_avgpool')"
   ]
  },
  {
   "cell_type": "code",
   "execution_count": null,
   "metadata": {},
   "outputs": [],
   "source": [
    "for i,layer in enumerate(basemodel5.layers):\n",
    "    print(i,layer.name,layer) \n",
    "#     print(layer)\n"
   ]
  },
  {
   "cell_type": "code",
   "execution_count": null,
   "metadata": {},
   "outputs": [],
   "source": [
    "basemodel.layers_by_depth"
   ]
  },
  {
   "cell_type": "code",
   "execution_count": null,
   "metadata": {
    "scrolled": false
   },
   "outputs": [],
   "source": [
    "from keras.utils import plot_model\n",
    "plot_model(densenet_keras.basemodel,to_file='./models/rename_model.png')\n",
    "plt.figure(figsize=(40,200))\n",
    "img = Image.open('./models/rename_model.png')\n",
    "plt.imshow(img)"
   ]
  },
  {
   "cell_type": "code",
   "execution_count": null,
   "metadata": {},
   "outputs": [],
   "source": [
    "import os\n",
    "os.path.dirname(os.getcwd())"
   ]
  },
  {
   "cell_type": "code",
   "execution_count": null,
   "metadata": {},
   "outputs": [],
   "source": [
    "from PIL import Image\n",
    "img = cv2.imread(random.choice(img_paths))\n",
    "# L = R * 299/1000 + G * 587/1000+ B * 114/1000 \n",
    "img_L = img.astype(np.float32)\n",
    "img_L = img_L[:,:,0]*114/1000 + img_L[:,:,1]* 587/1000 + img_L[:,:,2]* 299/1000 \n",
    "# img_L = Image.fromarray(img_L)\n",
    "img_pil = Image.fromarray(img)\n",
    "img_pil = img_pil.convert('L')\n",
    "fig = plt.figure()\n",
    "ax1 = fig.add_subplot(211)\n",
    "ax1.imshow(img_L)\n",
    "ax2 = fig.add_subplot(212)\n",
    "ax2.imshow(img_pil)\n"
   ]
  },
  {
   "cell_type": "code",
   "execution_count": null,
   "metadata": {},
   "outputs": [],
   "source": [
    "img_array = np.array(img_pil)"
   ]
  },
  {
   "cell_type": "code",
   "execution_count": null,
   "metadata": {},
   "outputs": [],
   "source": [
    "# img_array == img_L.astype(np.uint8)"
   ]
  },
  {
   "cell_type": "code",
   "execution_count": null,
   "metadata": {},
   "outputs": [],
   "source": [
    "img_L.astype(np.uint8)"
   ]
  },
  {
   "cell_type": "code",
   "execution_count": null,
   "metadata": {},
   "outputs": [],
   "source": [
    "img_batch = np.ones([1,32,1000,1])*0.5\n",
    "img_L = img.astype(np.float32)\n",
    "if len(img_L.shape) ==3:\n",
    "    img_L = img_L[:,:,0]*114/1000 + img_L[:,:,1]* 587/1000 + img_L[:,:,2]* 299/1000 \n",
    "scale = img_L.shape[0]*1.0/32.0\n",
    "w = int(img_L.shape[1]/scale)\n",
    "img = cv2.resize(img_L,(w,32),cv2.INTER_AREA)\n",
    "img = img/ 255.0 - 0.5\n",
    "img = img.reshape((32, w, 1))\n",
    "img_batch[0,:,:w,:] = img\n"
   ]
  },
  {
   "cell_type": "code",
   "execution_count": null,
   "metadata": {},
   "outputs": [],
   "source": [
    "plt.imshow(Image.fromarray(img_L))\n",
    "img_pil"
   ]
  },
  {
   "cell_type": "code",
   "execution_count": null,
   "metadata": {},
   "outputs": [],
   "source": [
    "img_batch"
   ]
  },
  {
   "cell_type": "code",
   "execution_count": 5,
   "metadata": {},
   "outputs": [],
   "source": [
    "from keras.utils import multi_gpu_model\n",
    "model = densenet_keras.basemodel\n",
    "parallel = "
   ]
  },
  {
   "cell_type": "code",
   "execution_count": null,
   "metadata": {},
   "outputs": [],
   "source": []
  }
 ],
 "metadata": {
  "kernelspec": {
   "display_name": "Python 3",
   "language": "python",
   "name": "python3"
  },
  "language_info": {
   "codemirror_mode": {
    "name": "ipython",
    "version": 3
   },
   "file_extension": ".py",
   "mimetype": "text/x-python",
   "name": "python",
   "nbconvert_exporter": "python",
   "pygments_lexer": "ipython3",
   "version": "3.5.2"
  }
 },
 "nbformat": 4,
 "nbformat_minor": 2
}
